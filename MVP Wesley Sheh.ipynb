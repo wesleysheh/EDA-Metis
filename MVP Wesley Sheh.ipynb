{
 "cells": [
  {
   "cell_type": "markdown",
   "id": "0b6a0b63",
   "metadata": {},
   "source": [
    "# Minimum Viable Product (MVP)\n",
    "Analysis of MTA data"
   ]
  },
  {
   "cell_type": "markdown",
   "id": "2e59bb24",
   "metadata": {},
   "source": [
    "The goal of this project is to better understand MTA data and what the communter environment is like in MTA. We want to also see when we can schedule in maintence, so that there will be the least amount of people disturbed as possible."
   ]
  },
  {
   "cell_type": "markdown",
   "id": "df48735e",
   "metadata": {},
   "source": [
    "![alt text](Traffic_DOW.png \"Traffic Day of the Week\")"
   ]
  },
  {
   "cell_type": "markdown",
   "id": "2c54115a",
   "metadata": {},
   "source": [
    "To start exploring this goal I broke down visit times to the amount per day per certain station. This way I can analyze the change in communtors throughout the week. This is my first step to analyzing it deeper using time based metrics\n",
    "\n",
    "However, this has allowed me to understand that each day is different in the amount of traffic it gets. We now know it is clear that there might be an optimal day in order to schedule in maintenance."
   ]
  }
 ],
 "metadata": {
  "kernelspec": {
   "display_name": "Python 3",
   "language": "python",
   "name": "python3"
  },
  "language_info": {
   "codemirror_mode": {
    "name": "ipython",
    "version": 3
   },
   "file_extension": ".py",
   "mimetype": "text/x-python",
   "name": "python",
   "nbconvert_exporter": "python",
   "pygments_lexer": "ipython3",
   "version": "3.8.8"
  }
 },
 "nbformat": 4,
 "nbformat_minor": 5
}
